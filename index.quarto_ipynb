{
  "cells": [
    {
      "cell_type": "markdown",
      "metadata": {},
      "source": [
        "---\n",
        "title: \"Quiz2\"\n",
        "project:\n",
        "  type: website\n",
        "\n",
        "output-dir: docs\n",
        "\n",
        "website:\n",
        "  title: \"Gapminder Analysis\"\n",
        "  navbar:\n",
        "    right:\n",
        "      - text: \"Life Expectancy and GDP\"\n",
        "        href: \"life-gdp.html\"\n",
        "      - text: \"Life Expectancy and Population\"\n",
        "        href: \"life-population.html\"\n",
        "      - text: \"Country Specific Analysis\"\n",
        "        href: \"country.html\"\n",
        "\n",
        "theme: journal\n",
        "---"
      ],
      "id": "add7133f"
    },
    {
      "cell_type": "code",
      "metadata": {},
      "source": [
        "# Install packages\n",
        "#!pip install pandas gapminder\n",
        "\n",
        "# Import necessary libraries\n",
        "import pandas as pd\n",
        "from gapminder import gapminder\n",
        "\n",
        "# Rename 'lifeExp' to 'life_expectancy' and 'gdpPercap' to 'gdp_per_capita'\n",
        "gapminder = gapminder.rename(columns={'lifeExp': 'life_expectancy',\n",
        "                                      'pop': 'population_millions', \n",
        "                                      'gdpPercap': 'gdp_per_capita'})\n",
        "\n",
        "# Convert population to millions\n",
        "gapminder['population_millions'] = gapminder['population_millions'] / 1_000_000\n",
        "\n",
        "# Create a new pandas DataFrame from the modified gapminder data\n",
        "gapminder_df = pd.DataFrame(gapminder)\n",
        "\n",
        "# Save the DataFrame as a CSV file\n",
        "gapminder_df.to_csv('gapminder.csv', index=False)"
      ],
      "id": "252f35a7",
      "execution_count": null,
      "outputs": []
    },
    {
      "cell_type": "markdown",
      "metadata": {},
      "source": [
        "This is a Quarto website.\n",
        "\n",
        "To learn more about Quarto websites visit <https://quarto.org/docs/websites>."
      ],
      "id": "ae017cee"
    }
  ],
  "metadata": {
    "kernelspec": {
      "display_name": "Python 3",
      "language": "python",
      "name": "python3"
    }
  },
  "nbformat": 4,
  "nbformat_minor": 5
}